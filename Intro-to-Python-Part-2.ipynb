{
  "nbformat": 4,
  "nbformat_minor": 0,
  "metadata": {
    "colab": {
      "name": "Math495 - Intro to Python Part 2.ipynb",
      "provenance": []
    },
    "kernelspec": {
      "name": "python3",
      "display_name": "Python 3"
    },
    "language_info": {
      "name": "python"
    }
  },
  "cells": [
    {
      "cell_type": "code",
      "metadata": {
        "colab": {
          "base_uri": "https://localhost:8080/"
        },
        "id": "lPPj1PX8pZZa",
        "outputId": "a0173fbf-f1f1-49a7-bb66-2ad3ada3ca97"
      },
      "source": [
        "def last_two_deleted(x):\n",
        "  return x//100\n",
        "#take the lower rounded integer of x/100\n",
        "last_two_deleted(246810)"
      ],
      "execution_count": 2,
      "outputs": [
        {
          "output_type": "execute_result",
          "data": {
            "text/plain": [
              "2468"
            ]
          },
          "metadata": {},
          "execution_count": 2
        }
      ]
    },
    {
      "cell_type": "code",
      "metadata": {
        "colab": {
          "base_uri": "https://localhost:8080/"
        },
        "id": "QkR5w3w5quXY",
        "outputId": "3f0a6ec4-75bf-445c-d8bf-f4603ac37739"
      },
      "source": [
        "def last_two(x):\n",
        "  return x%100\n",
        "#take the remainder of x/100\n",
        "last_two(246810)"
      ],
      "execution_count": null,
      "outputs": [
        {
          "output_type": "execute_result",
          "data": {
            "text/plain": [
              "10"
            ]
          },
          "metadata": {},
          "execution_count": 2
        }
      ]
    },
    {
      "cell_type": "code",
      "metadata": {
        "colab": {
          "base_uri": "https://localhost:8080/",
          "height": 37
        },
        "id": "L2KPzeJctJXI",
        "outputId": "52bd66b5-3137-425e-f93a-1c9cfe7965dd"
      },
      "source": [
        "def first_half(x):\n",
        "  return x[:len(x)//2:1]\n",
        "#return the character of the input from the 1st character to the character of the lower rounded length of the input with a step size 1\n",
        "first_half(\"diophantine\")"
      ],
      "execution_count": null,
      "outputs": [
        {
          "output_type": "execute_result",
          "data": {
            "application/vnd.google.colaboratory.intrinsic+json": {
              "type": "string"
            },
            "text/plain": [
              "'dioph'"
            ]
          },
          "metadata": {},
          "execution_count": 7
        }
      ]
    },
    {
      "cell_type": "code",
      "metadata": {
        "colab": {
          "base_uri": "https://localhost:8080/",
          "height": 37
        },
        "id": "eSFVpNBkyjBA",
        "outputId": "38c24b46-7e22-454b-a882-7d98b7b03c7d"
      },
      "source": [
        "def backward(x):\n",
        "  return x[len(x)::-1]\n",
        "#return the nth character such that the string length is n, then return all character with step size -1 until the beginning of the string\n",
        "backward(\"desserts\")"
      ],
      "execution_count": null,
      "outputs": [
        {
          "output_type": "execute_result",
          "data": {
            "application/vnd.google.colaboratory.intrinsic+json": {
              "type": "string"
            },
            "text/plain": [
              "'stressed'"
            ]
          },
          "metadata": {},
          "execution_count": 9
        }
      ]
    },
    {
      "cell_type": "code",
      "metadata": {
        "colab": {
          "base_uri": "https://localhost:8080/"
        },
        "id": "FWsBx0kD0G9l",
        "outputId": "d4f413ac-d49b-4f85-947b-bb5085201a3f"
      },
      "source": [
        "import numpy as np\n",
        "A = np.array([[3,-1,4],[1,5,-9]])\n",
        "B = np.array([[2,6,-5,3],[5,-8,9,7],[9,-3,-2,-3]])\n",
        "#create the given array\n",
        "def prob_4(A,B):\n",
        "  return np.dot(A,B)\n",
        "#return the cross product of A and B\n",
        "print(prob_4(A,B))\n",
        "  "
      ],
      "execution_count": null,
      "outputs": [
        {
          "output_type": "stream",
          "name": "stdout",
          "text": [
            "[[ 37  14 -32 -10]\n",
            " [-54  -7  58  65]]\n"
          ]
        }
      ]
    },
    {
      "cell_type": "code",
      "metadata": {
        "id": "2grZGLt64H8I"
      },
      "source": [
        "def int_parity():\n",
        "  answer = input(\"enter an integer\")\n",
        "  x = answer.isdigit()\n",
        "  #checks if input is an integer\n",
        "  if x == False : \n",
        "    print(\"that is not an integer\")\n",
        "    #if the input is not an integer, it prints as such\n",
        "  if x == True : \n",
        "    answer = int(answer)\n",
        "    #redefines the string \"answer\" as an integer\n",
        "    if answer%2 == 1 :\n",
        "       print(\"that integer is odd\")\n",
        "       #if the remainder of answer/2 is 1, then answer is odd\n",
        "    if answer%2 == 0 :\n",
        "       print(\"that integer is even\")\n",
        "       #if the remainder of answer/2 is 2, then answer is even\n",
        "int_parity()\n"
      ],
      "execution_count": null,
      "outputs": []
    },
    {
      "cell_type": "code",
      "metadata": {
        "id": "W_k4DH-7-YwD"
      },
      "source": [
        ""
      ],
      "execution_count": null,
      "outputs": []
    }
  ]
}