{
  "nbformat": 4,
  "nbformat_minor": 0,
  "metadata": {
    "colab": {
      "name": "Math495R - Intro to Python Part 1.ipynb",
      "provenance": [],
      "collapsed_sections": []
    },
    "kernelspec": {
      "name": "python3",
      "display_name": "Python 3"
    },
    "language_info": {
      "name": "python"
    }
  },
  "cells": [
    {
      "cell_type": "code",
      "metadata": {
        "id": "nysznqTKct9A",
        "colab": {
          "base_uri": "https://localhost:8080/"
        },
        "outputId": "988e5943-469e-47ce-c7aa-e01abbc9349f"
      },
      "source": [
        "\n",
        "def sphere_volume(r):\n",
        "  k = 4/3\n",
        "  pi = 3.14159\n",
        "  #defined k as 4/3 and pi as 3.14159\n",
        "  return k*pi*(r**3)\n",
        "  #construct the formula for sphere volume\n",
        "sphere_volume(1.59)\n"
      ],
      "execution_count": 30,
      "outputs": [
        {
          "output_type": "execute_result",
          "data": {
            "text/plain": [
              "16.83757779948"
            ]
          },
          "metadata": {},
          "execution_count": 30
        }
      ]
    },
    {
      "cell_type": "code",
      "metadata": {
        "colab": {
          "base_uri": "https://localhost:8080/"
        },
        "id": "PNrmmNHXkEuX",
        "outputId": "efedc44f-c78c-4095-ce68-302c6b36ee68"
      },
      "source": [
        "k = 4/3\n",
        "pi = 3.14159\n",
        "V = lambda r : k*pi*r**3\n",
        "print(V(24))\n"
      ],
      "execution_count": 28,
      "outputs": [
        {
          "output_type": "stream",
          "name": "stdout",
          "text": [
            "57905.78687999999\n"
          ]
        }
      ]
    },
    {
      "cell_type": "code",
      "metadata": {
        "colab": {
          "base_uri": "https://localhost:8080/"
        },
        "id": "kpn4AEt8l0k1",
        "outputId": "2b43b8d1-17f0-46e3-96a9-2ce0224d1e35"
      },
      "source": [
        "def isolate(a,b,c,d,e):\n",
        " a = str(a)\n",
        " b = str(b)\n",
        " c = str(c)\n",
        " d = str(d)\n",
        " e = str(e)\n",
        " #convert all values [a,e] to strings\n",
        " return (print(a + \"     \" + b + \"     \" + c + \" \" + d + \" \" + e))\n",
        " #insert 5 spaces between a,b,and c, insert 1 space between c,d,and e.\n",
        "isolate(1,2,3,4,5)"
      ],
      "execution_count": null,
      "outputs": [
        {
          "output_type": "stream",
          "name": "stdout",
          "text": [
            "1     2     3 4 5\n"
          ]
        }
      ]
    },
    {
      "cell_type": "code",
      "metadata": {
        "colab": {
          "base_uri": "https://localhost:8080/"
        },
        "id": "hC0joB0IryHI",
        "outputId": "d7133cd6-daf3-4776-d331-f50441951dc4"
      },
      "source": [
        "a = 1+3*2\n",
        "#multiplication comes before addition\n",
        "b = 1+3**2\n",
        "#exponentiation comes before addition\n",
        "c = 5*3**2\n",
        "#exponentiation comes before multiplication\n",
        "d = 3*4/7\n",
        "e = 4/7*3\n",
        "# multiplication and division are done from left to right\n",
        "f = (3/2)**2\n",
        "g = 3/2**2\n",
        "# inside parentheses operations are done before outside parentheses operations\n",
        "print(a,b,c,d,e,f,g)"
      ],
      "execution_count": null,
      "outputs": [
        {
          "output_type": "stream",
          "name": "stdout",
          "text": [
            "7 10 45 1.7142857142857142 1.7142857142857142 2.25 0.75\n"
          ]
        }
      ]
    },
    {
      "cell_type": "code",
      "metadata": {
        "colab": {
          "base_uri": "https://localhost:8080/"
        },
        "id": "VW_HG0wy06be",
        "outputId": "c035c8b8-5853-48bc-8380-a2cb60480145"
      },
      "source": [
        "h = 3+5%2\n",
        "# modulo comes before addition\n",
        "i = 11%2*3\n",
        "j = 11%(2*3)\n",
        "k = 11*2%3\n",
        "# modulo and multiplication are done from left to right\n",
        "l = 11%2**2\n",
        "m = 5**5%3\n",
        "#exponentiation comes before modulo\n",
        "print(h,i,j,k,l,m)"
      ],
      "execution_count": null,
      "outputs": [
        {
          "output_type": "stream",
          "name": "stdout",
          "text": [
            "4 3 5 1 3 2\n"
          ]
        }
      ]
    },
    {
      "cell_type": "markdown",
      "metadata": {
        "id": "CrQL3PSrsWRh"
      },
      "source": [
        "All my operation are done with 3 numbers. I place the operations I know the order of in reverse order to prove that they will take place in the correct order regardless of where they are from left to right. When I get to the modulo operation my assumption is that it will function like multiplication and division in the order of operations. With h I prove modulo comes before addition, because h = 4, if addition comes first then h = 0. Then I showed that modulo and multiplication are done left to right with i,j,k. If modulo takes preference over multiplication then k = 5; however, k = 1. If multiplication takes preference over modulo then i = 5; however, i = 3.\n",
        "Then I showed the exponentiation comes before modulo because both l and m perform exponentiation first, regardless of its position left and right."
      ]
    }
  ]
}