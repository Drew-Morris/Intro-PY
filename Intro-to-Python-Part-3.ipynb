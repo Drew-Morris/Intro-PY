{
  "nbformat": 4,
  "nbformat_minor": 0,
  "metadata": {
    "colab": {
      "name": "Intro to Python Part 3.ipynb",
      "provenance": []
    },
    "kernelspec": {
      "name": "python3",
      "display_name": "Python 3"
    },
    "language_info": {
      "name": "python"
    }
  },
  "cells": [
    {
      "cell_type": "code",
      "metadata": {
        "colab": {
          "base_uri": "https://localhost:8080/",
          "height": 37
        },
        "id": "iQBn_7RUnSyd",
        "outputId": "df12a4ce-a423-432e-b9ee-de3b17a97569"
      },
      "source": [
        "def int_to_str26(n):\n",
        "  letter = [\"A\",\"B\",\"C\",\"D\",\"E\",\"F\",\"G\",\"H\",\"I\",\"J\",\"K\",\"L\",\"M\",\"N\",\"O\",\"P\",\"Q\",\"R\",\"S\",\"T\",\"U\",\"V\",\"W\",\"X\",\"Y\",\"Z\"]\n",
        "  #creates an index of the alphabet\n",
        "  string = ''\n",
        "  #creates an empty string\n",
        "  while n > 0:\n",
        "    l = n%100\n",
        "    #l is the last two digits of n\n",
        "    string = letter[l] + string\n",
        "    #adds the letter corresponding to the index value of l to the beginning of the string\n",
        "    n = n//100\n",
        "    #inputs all digits except the last two back into the loop\n",
        "  return string\n",
        "int_to_str26(709071221222115051724)"
      ],
      "execution_count": 6,
      "outputs": [
        {
          "output_type": "execute_result",
          "data": {
            "application/vnd.google.colaboratory.intrinsic+json": {
              "type": "string"
            },
            "text/plain": [
              "'HJHMVWVPFRY'"
            ]
          },
          "metadata": {},
          "execution_count": 6
        }
      ]
    },
    {
      "cell_type": "code",
      "metadata": {
        "colab": {
          "base_uri": "https://localhost:8080/"
        },
        "id": "KEPxZMzDrd-F",
        "outputId": "0c335bcd-9880-47d9-84e9-b6fc717adc3a"
      },
      "source": [
        "def str_to_int26(m):\n",
        "  letter = [\"A\",\"B\",\"C\",\"D\",\"E\",\"F\",\"G\",\"H\",\"I\",\"J\",\"K\",\"L\",\"M\",\"N\",\"O\",\"P\",\"Q\",\"R\",\"S\",\"T\",\"U\",\"V\",\"W\",\"X\",\"Y\",\"Z\"]\n",
        "  string = \"\"\n",
        "  y = 0\n",
        "  while y < len(m):\n",
        "    k = (m[y])\n",
        "    n = str(letter.index(k))\n",
        "    if int(n) < 10:\n",
        "      n = \"0\" + n\n",
        "    string = string + n\n",
        "    y = y + 1\n",
        "  return int(string)\n",
        "str_to_int26(\"CAT\")"
      ],
      "execution_count": null,
      "outputs": [
        {
          "output_type": "execute_result",
          "data": {
            "text/plain": [
              "20019"
            ]
          },
          "metadata": {},
          "execution_count": 37
        }
      ]
    },
    {
      "cell_type": "code",
      "metadata": {
        "colab": {
          "base_uri": "https://localhost:8080/"
        },
        "id": "li7H_TKq-3x6",
        "outputId": "0d9f9ae3-87ec-480d-f150-6aeb8feb1e81"
      },
      "source": [
        "def str_to_int26(m):\n",
        "  letter = [\"A\",\"B\",\"C\",\"D\",\"E\",\"F\",\"G\",\"H\",\"I\",\"J\",\"K\",\"L\",\"M\",\"N\",\"O\",\"P\",\"Q\",\"R\",\"S\",\"T\",\"U\",\"V\",\"W\",\"X\",\"Y\",\"Z\"]\n",
        "  #a list of all letters\n",
        "  string = \"\"\n",
        "  #the output string\n",
        "  for i in range(len(m)):\n",
        "    #for every ith term in the list of [0,...,len(m)]...\n",
        "    n = letter.index(m[i])\n",
        "    #...n is set to the index valu of the ith term in the input\n",
        "    n = str(n)\n",
        "    #n is made into a string\n",
        "    if int(n) < 10:\n",
        "      n = \"0\" + n\n",
        "      #if the value of n is less than ten, a zero is added to the beginning of string n\n",
        "    string = string + n\n",
        "    #The string n is added to the beginning of the output string\n",
        "  return int(string)\n",
        "str_to_int26(\"DOESTHISFUNCTIONWORK\")"
      ],
      "execution_count": null,
      "outputs": [
        {
          "output_type": "execute_result",
          "data": {
            "text/plain": [
              "314041819070818052013021908141322141710"
            ]
          },
          "metadata": {},
          "execution_count": 49
        }
      ]
    },
    {
      "cell_type": "code",
      "metadata": {
        "colab": {
          "base_uri": "https://localhost:8080/"
        },
        "id": "uv5CYrj9ET8L",
        "outputId": "aa04f009-2610-44c2-9b74-02aada954624"
      },
      "source": [
        "def alt_harmonic(n):\n",
        "  if n < 0:\n",
        "    return \"Error: enter a positive integer\"\n",
        "  if n%1 != 0:\n",
        "    return \"Error: enter a positive integer\"\n",
        "  #ensures that only natural numbers are entered\n",
        "  if n%1 == 0:\n",
        "    k = 0\n",
        "    #the sum\n",
        "    y = 1\n",
        "    #the denominator\n",
        "    x = ((-1)**(n+1))/y\n",
        "    #the alternating numerator\n",
        "    while y < (n+1):\n",
        "      #this sequence will continue until all numbers from 1 to and including n are computed\n",
        "      x = ((-1)**(y+1))/y\n",
        "      #the numerator alternates with every increase of y\n",
        "      k = k + x\n",
        "      #the new x is added to the sum\n",
        "      y = y+1\n",
        "      #the denominator grows by 1\n",
        "    return k\n",
        "alt_harmonic(500000)\n",
        "\n",
        "\n"
      ],
      "execution_count": null,
      "outputs": [
        {
          "output_type": "execute_result",
          "data": {
            "text/plain": [
              "0.6931461805610046"
            ]
          },
          "metadata": {},
          "execution_count": 8
        }
      ]
    }
  ]
}